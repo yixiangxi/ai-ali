get_ipython().getoutput("apt update")
get_ipython().getoutput("apt install -y aria2")
get_ipython().getoutput("git clone https://gitcode.net/overbill1683/stable-diffusion-webui")
get_ipython().run_line_magic("cd", " stable-diffusion-webui")
get_ipython().getoutput("mkdir repositories")
get_ipython().run_line_magic("cd", " repositories")
get_ipython().getoutput("git clone "https://gitcode.net/overbill1683/stablediffusion" "stable-diffusion-stability-ai"")
get_ipython().getoutput("git clone "https://gitcode.net/overbill1683/taming-transformers" "taming-transformers"")
get_ipython().getoutput("git clone "https://gitcode.net/overbill1683/k-diffusion" "k-diffusion"")
get_ipython().getoutput("git clone "https://gitcode.net/overbill1683/CodeFormer" "CodeFormer"")
get_ipython().getoutput("git clone "https://gitcode.net/overbill1683/BLIP" "BLIP"")

get_ipython().run_line_magic("cd", " /mnt/workspace/stable-diffusion-webui")
get_ipython().getoutput("wget -O "config.json" "https://gitcode.net/Akegarasu/sd-webui-configs/-/raw/master/config.json"")


## 安装常用插件，填写github链接，一行一个
extension_urls = """
https://gitcode.net/ranting8323/a1111-sd-webui-tagcomplete
https://gitcode.net/overbill1683/stable-diffusion-webui-localization-zh_Hans
https://gitcode.net/ranting8323/sd-webui-additional-networks
https://gitcode.net/ranting8323/sd-webui-infinite-image-browsing
https://gitcode.net/ranting8323/stable-diffusion-webui-wd14-tagger
"""

extensions = extension_urls.strip().split("\n")

get_ipython().run_line_magic("cd", " /mnt/workspace/stable-diffusion-webui")
for e in extensions:
    get_ipython().getoutput("git -C "extensions" clone {e}")


def aria2(url, filename, d):
    get_ipython().getoutput("aria2c --console-log-level=error -c -x 16 -s 16 {url} -o {filename} -d {d}")

model_url = '"https://modelscope.cn/api/v1/models/dienstag/anything-v4.0/repo?Revision=master&FilePath=anything-v4.0-pruned-fp16.safetensors"'
aria2(model_url, "anything-v4.0-pruned-fp16.safetensors", "/mnt/workspace/stable-diffusion-webui/models/Stable-diffusion")


VAE_URL = '"https://modelscope.cn/api/v1/models/dienstag/anything-v4.0/repo?Revision=master&FilePath=anything-v4.0.vae.pt"'
aria2(VAE_URL, "animevae.pt", "/mnt/workspace/stable-diffusion-webui/models/VAE")


# 这部分是可选的！！！！！有需要再执行！！！！！！！ 修改对应文本，运行即可下载文件
def aria2(url, filename, d):
    get_ipython().getoutput("aria2c --console-log-level=error -c -x 16 -s 16 {url} -o {filename} -d {d}")

DOWNLOAD_URL = "文件链接" # 文件链接，需要下载的url直链才可以
FILE_NAME = "aki" # 下载保存的文件名
SAVE_DIR = "/mnt/workspace" # 文件保存的路径
aria2(DOWNLOAD_URL, FILE_NAME, SAVE_DIR)


import os
package_envs  = [
      {
        "env": "GFPGAN_PACKAGE",
        "url": "git+https://gitcode.net/overbill1683/GFPGAN.git@8d2447a2d918f8eba5a4a01463fd48e45126a379"
      },
      {
        "env": "CLIP_PACKAGE",
        "url": "git+https://gitcode.net/overbill1683/CLIP.git@d50d76daa670286dd6cacf3bcd80b5e4823fc8e1"
      },
      {
        "env": "OPENCLIP_PACKAGE",
        "url": "git+https://gitcode.net/overbill1683/open_clip.git@bb6e834e9c70d9c27d0dc3ecedeebeaeb1ffad6b"
      }
]
os.environ["PIP_INDEX_URL"] = "https://mirror.baidu.com/pypi/simple"
for i in package_envs:
    os.environ[i["env"]] = i["url"]

get_ipython().run_line_magic("cd", " /mnt/workspace/stable-diffusion-webui")
get_ipython().getoutput("python launch.py --no-download-sd-model --xformers --share --listen --enable-insecure-extension-access")



